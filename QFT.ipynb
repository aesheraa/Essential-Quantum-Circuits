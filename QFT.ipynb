{
 "cells": [
  {
   "cell_type": "code",
   "execution_count": 1,
   "id": "11233d86",
   "metadata": {},
   "outputs": [],
   "source": [
    "# Quantum Fourier Transform "
   ]
  },
  {
   "cell_type": "code",
   "execution_count": 2,
   "id": "b6a3f98f",
   "metadata": {},
   "outputs": [],
   "source": [
    "import qiskit\n",
    "import math\n",
    "import matplotlib.pyplot as plt\n",
    "import numpy as np"
   ]
  },
  {
   "cell_type": "code",
   "execution_count": 3,
   "id": "cee06fe1",
   "metadata": {},
   "outputs": [],
   "source": [
    "from qiskit import QuantumCircuit\n",
    "\n",
    "def apply_qft(circuit, n):\n",
    "    for j in range(n):\n",
    "        circuit.h(j) # 1-) hadamard\n",
    "        \n",
    "        for k in range(1, n - j):\n",
    "            angle = np.pi / (2 ** k)\n",
    "            circuit.cp(angle, j + k, j) # 2-) R gate for phase estimation\n",
    "\n",
    "    # 3-) SWAP gate\n",
    "    for i in range(n // 2):\n",
    "        circuit.swap(i, n - i - 1)\n"
   ]
  },
  {
   "cell_type": "code",
   "execution_count": 4,
   "id": "3346d983",
   "metadata": {},
   "outputs": [
    {
     "data": {
      "text/html": [
       "<pre style=\"word-wrap: normal;white-space: pre;background: #fff0;line-height: 1.1;font-family: &quot;Courier New&quot;,Courier,monospace\">     ┌───┐                                        \n",
       "q_0: ┤ H ├─■────────■───────────────────────────X─\n",
       "     └───┘ │P(π/2)  │       ┌───┐               │ \n",
       "q_1: ──────■────────┼───────┤ H ├─■─────────────┼─\n",
       "                    │P(π/4) └───┘ │P(π/2) ┌───┐ │ \n",
       "q_2: ───────────────■─────────────■───────┤ H ├─X─\n",
       "                                          └───┘   </pre>"
      ],
      "text/plain": [
       "     ┌───┐                                        \n",
       "q_0: ┤ H ├─■────────■───────────────────────────X─\n",
       "     └───┘ │P(π/2)  │       ┌───┐               │ \n",
       "q_1: ──────■────────┼───────┤ H ├─■─────────────┼─\n",
       "                    │P(π/4) └───┘ │P(π/2) ┌───┐ │ \n",
       "q_2: ───────────────■─────────────■───────┤ H ├─X─\n",
       "                                          └───┘   "
      ]
     },
     "execution_count": 4,
     "metadata": {},
     "output_type": "execute_result"
    }
   ],
   "source": [
    "n = 3 \n",
    "qc = QuantumCircuit(n)\n",
    "apply_qft(qc, n)\n",
    "qc.draw()  "
   ]
  },
  {
   "cell_type": "code",
   "execution_count": null,
   "id": "8f5a6678",
   "metadata": {},
   "outputs": [],
   "source": []
  }
 ],
 "metadata": {
  "kernelspec": {
   "display_name": "Python 3",
   "language": "python",
   "name": "python3"
  },
  "language_info": {
   "codemirror_mode": {
    "name": "ipython",
    "version": 3
   },
   "file_extension": ".py",
   "mimetype": "text/x-python",
   "name": "python",
   "nbconvert_exporter": "python",
   "pygments_lexer": "ipython3",
   "version": "3.13.5"
  }
 },
 "nbformat": 4,
 "nbformat_minor": 5
}
