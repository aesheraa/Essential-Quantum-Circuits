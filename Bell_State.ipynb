{
 "cells": [
  {
   "cell_type": "code",
   "execution_count": 3,
   "id": "b9d74585",
   "metadata": {},
   "outputs": [],
   "source": [
    "# Bell State\n",
    "\n",
    "import qiskit\n",
    "from qiskit import QuantumCircuit\n",
    "import numpy as np\n",
    "from qiskit.circuit import Parameter\n",
    "from math import radians"
   ]
  },
  {
   "cell_type": "code",
   "execution_count": 4,
   "id": "97269bf5",
   "metadata": {},
   "outputs": [
    {
     "data": {
      "text/plain": [
       "CircuitInstruction(operation=Instruction(name='barrier', num_qubits=2, num_clbits=0, params=[]), qubits=(<Qubit register=(2, \"q\"), index=0>, <Qubit register=(2, \"q\"), index=1>), clbits=())"
      ]
     },
     "execution_count": 4,
     "metadata": {},
     "output_type": "execute_result"
    }
   ],
   "source": [
    "theta = Parameter('param1')\n",
    "\n",
    "qc = QuantumCircuit(2, 2) \n",
    "\n",
    "state1 = [1,0]\n",
    "state2 = [0,1]\n",
    "qc.initialize(state1, 0) \n",
    "qc.initialize(state2, 1) \n",
    "\n",
    "qc.barrier()\n",
    "\n",
    "qc.ry(theta, 0) \n",
    "qc.barrier()\n",
    "\n",
    "qc.cx(0, 1)\n",
    "qc.barrier()\n",
    "# RY and CNOT gate "
   ]
  },
  {
   "cell_type": "code",
   "execution_count": 5,
   "id": "5ba36879",
   "metadata": {},
   "outputs": [
    {
     "data": {
      "text/html": [
       "<pre style=\"word-wrap: normal;white-space: pre;background: #fff0;line-height: 1.1;font-family: &quot;Courier New&quot;,Courier,monospace\">     ┌─────────────────┐ ░ ┌────────────┐ ░       ░ ┌─┐   \n",
       "q_0: ┤ Initialize(1,0) ├─░─┤ Ry(param1) ├─░───■───░─┤M├───\n",
       "     ├─────────────────┤ ░ └────────────┘ ░ ┌─┴─┐ ░ └╥┘┌─┐\n",
       "q_1: ┤ Initialize(0,1) ├─░────────────────░─┤ X ├─░──╫─┤M├\n",
       "     └─────────────────┘ ░                ░ └───┘ ░  ║ └╥┘\n",
       "c: 2/════════════════════════════════════════════════╩══╩═\n",
       "                                                     0  1 </pre>"
      ],
      "text/plain": [
       "     ┌─────────────────┐ ░ ┌────────────┐ ░       ░ ┌─┐   \n",
       "q_0: ┤ Initialize(1,0) ├─░─┤ Ry(param1) ├─░───■───░─┤M├───\n",
       "     ├─────────────────┤ ░ └────────────┘ ░ ┌─┴─┐ ░ └╥┘┌─┐\n",
       "q_1: ┤ Initialize(0,1) ├─░────────────────░─┤ X ├─░──╫─┤M├\n",
       "     └─────────────────┘ ░                ░ └───┘ ░  ║ └╥┘\n",
       "c: 2/════════════════════════════════════════════════╩══╩═\n",
       "                                                     0  1 "
      ]
     },
     "execution_count": 5,
     "metadata": {},
     "output_type": "execute_result"
    }
   ],
   "source": [
    "qc.measure(0, 0)\n",
    "qc.measure(1, 1)\n",
    "qc.draw()"
   ]
  },
  {
   "cell_type": "code",
   "execution_count": null,
   "id": "44b63781",
   "metadata": {},
   "outputs": [],
   "source": []
  },
  {
   "cell_type": "code",
   "execution_count": null,
   "id": "ea97d7fc",
   "metadata": {},
   "outputs": [],
   "source": []
  }
 ],
 "metadata": {
  "kernelspec": {
   "display_name": "Python 3",
   "language": "python",
   "name": "python3"
  },
  "language_info": {
   "codemirror_mode": {
    "name": "ipython",
    "version": 3
   },
   "file_extension": ".py",
   "mimetype": "text/x-python",
   "name": "python",
   "nbconvert_exporter": "python",
   "pygments_lexer": "ipython3",
   "version": "3.13.5"
  }
 },
 "nbformat": 4,
 "nbformat_minor": 5
}
