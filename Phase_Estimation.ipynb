{
 "cells": [
  {
   "cell_type": "code",
   "execution_count": 1,
   "id": "723a245b",
   "metadata": {},
   "outputs": [],
   "source": [
    "# Quantum Phase Estimation goal is to estimate the phase corresponding to an eigenvector of a unitary operator"
   ]
  },
  {
   "cell_type": "code",
   "execution_count": 1,
   "id": "6b2a6405",
   "metadata": {},
   "outputs": [],
   "source": [
    "import qiskit\n",
    "import matplotlib\n",
    "from qiskit import QuantumCircuit\n",
    "from qiskit.circuit.library import QFT\n",
    "import numpy as np \n",
    "from qiskit.circuit import Gate\n",
    "from qiskit.circuit.library import UnitaryGate"
   ]
  },
  {
   "cell_type": "code",
   "execution_count": 2,
   "id": "9850fe6f",
   "metadata": {},
   "outputs": [
    {
     "data": {
      "text/plain": [
       "<qiskit.circuit.instructionset.InstructionSet at 0x254fe103400>"
      ]
     },
     "execution_count": 2,
     "metadata": {},
     "output_type": "execute_result"
    }
   ],
   "source": [
    "theta = 1/5 #Phase value\n",
    "\n",
    "# Unitary U = [[1, 0], [0, e^{2πiθ}]]\n",
    "U = UnitaryGate([[1, 0], [0, np.exp(2j * np.pi * theta)]], label=\"U\")\n",
    "\n",
    "qc = QuantumCircuit(4, 3) \n",
    "\n",
    "qc.x(3) # Target qubit |1⟩"
   ]
  },
  {
   "cell_type": "code",
   "execution_count": 3,
   "id": "cc7fa9e1",
   "metadata": {},
   "outputs": [
    {
     "data": {
      "text/plain": [
       "<qiskit.circuit.instructionset.InstructionSet at 0x254ffe29e70>"
      ]
     },
     "execution_count": 3,
     "metadata": {},
     "output_type": "execute_result"
    }
   ],
   "source": [
    "# step 1 : apply hadamard gates\n",
    "qc.h(0)\n",
    "qc.h(1)\n",
    "qc.h(2)"
   ]
  },
  {
   "cell_type": "code",
   "execution_count": 7,
   "id": "8adf88d3",
   "metadata": {},
   "outputs": [
    {
     "name": "stderr",
     "output_type": "stream",
     "text": [
      "C:\\Users\\eda1n\\AppData\\Local\\Temp\\ipykernel_16752\\1190783719.py:6: DeprecationWarning: The class ``qiskit.circuit.library.basis_change.qft.QFT`` is deprecated as of Qiskit 2.1. It will be removed in Qiskit 3.0. ('Use qiskit.circuit.library.QFTGate or qiskit.synthesis.qft.synth_qft_full instead, for access to all previous arguments.',)\n",
      "  qc.append(QFT(3, inverse=True).to_gate(label=\"QFT†\"), [0, 1, 2])\n"
     ]
    },
    {
     "data": {
      "text/plain": [
       "<qiskit.circuit.instructionset.InstructionSet at 0x2548e333850>"
      ]
     },
     "execution_count": 7,
     "metadata": {},
     "output_type": "execute_result"
    }
   ],
   "source": [
    "# Steo 2 : apply Controlled-U^{2^j} (phase)\n",
    "qc.append(U.control(1), [0, 3])            # 2^0 = 1\n",
    "qc.append(U.power(2).control(1), [1, 3])   # 2^1 = 2\n",
    "qc.append(U.power(4).control(1), [2, 3])   # 2^2 = 4\n",
    "# Step 3: Apply inverse QFT\n",
    "qc.append(QFT(3, inverse=True).to_gate(label=\"QFT†\"), [0, 1, 2])"
   ]
  },
  {
   "cell_type": "code",
   "execution_count": 6,
   "id": "8e3e72f7",
   "metadata": {},
   "outputs": [
    {
     "data": {
      "text/html": [
       "<pre style=\"word-wrap: normal;white-space: pre;background: #fff0;line-height: 1.1;font-family: &quot;Courier New&quot;,Courier,monospace\">     ┌───┐                               ┌───────┐┌─┐      \n",
       "q_0: ┤ H ├──■────────────────────────────┤0      ├┤M├──────\n",
       "     ├───┤  │                            │       │└╥┘┌─┐   \n",
       "q_1: ┤ H ├──┼────────■───────────────────┤1 QFT† ├─╫─┤M├───\n",
       "     ├───┤  │        │                   │       │ ║ └╥┘┌─┐\n",
       "q_2: ┤ H ├──┼────────┼────────────■──────┤2      ├─╫──╫─┤M├\n",
       "     ├───┤┌─┴─┐┌─────┴─────┐┌─────┴─────┐└───────┘ ║  ║ └╥┘\n",
       "q_3: ┤ X ├┤ U ├┤ unitary^2 ├┤ unitary^4 ├──────────╫──╫──╫─\n",
       "     └───┘└───┘└───────────┘└───────────┘          ║  ║  ║ \n",
       "c: 3/══════════════════════════════════════════════╩══╩══╩═\n",
       "                                                   0  1  2 </pre>"
      ],
      "text/plain": [
       "     ┌───┐                               ┌───────┐┌─┐      \n",
       "q_0: ┤ H ├──■────────────────────────────┤0      ├┤M├──────\n",
       "     ├───┤  │                            │       │└╥┘┌─┐   \n",
       "q_1: ┤ H ├──┼────────■───────────────────┤1 QFT† ├─╫─┤M├───\n",
       "     ├───┤  │        │                   │       │ ║ └╥┘┌─┐\n",
       "q_2: ┤ H ├──┼────────┼────────────■──────┤2      ├─╫──╫─┤M├\n",
       "     ├───┤┌─┴─┐┌─────┴─────┐┌─────┴─────┐└───────┘ ║  ║ └╥┘\n",
       "q_3: ┤ X ├┤ U ├┤ unitary^2 ├┤ unitary^4 ├──────────╫──╫──╫─\n",
       "     └───┘└───┘└───────────┘└───────────┘          ║  ║  ║ \n",
       "c: 3/══════════════════════════════════════════════╩══╩══╩═\n",
       "                                                   0  1  2 "
      ]
     },
     "execution_count": 6,
     "metadata": {},
     "output_type": "execute_result"
    }
   ],
   "source": [
    "\n",
    "qc.measure([0, 1, 2], [0, 1, 2])\n",
    "qc.draw()\n"
   ]
  },
  {
   "cell_type": "code",
   "execution_count": null,
   "id": "b655335d",
   "metadata": {},
   "outputs": [],
   "source": []
  },
  {
   "cell_type": "code",
   "execution_count": null,
   "id": "0960aecf",
   "metadata": {},
   "outputs": [],
   "source": []
  }
 ],
 "metadata": {
  "kernelspec": {
   "display_name": "Python 3",
   "language": "python",
   "name": "python3"
  },
  "language_info": {
   "codemirror_mode": {
    "name": "ipython",
    "version": 3
   },
   "file_extension": ".py",
   "mimetype": "text/x-python",
   "name": "python",
   "nbconvert_exporter": "python",
   "pygments_lexer": "ipython3",
   "version": "3.13.5"
  }
 },
 "nbformat": 4,
 "nbformat_minor": 5
}
