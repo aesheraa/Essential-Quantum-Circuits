{
 "cells": [
  {
   "cell_type": "code",
   "execution_count": 12,
   "id": "a072c526",
   "metadata": {},
   "outputs": [],
   "source": [
    "import qiskit\n",
    "from qiskit import QuantumCircuit\n",
    "import matplotlib"
   ]
  },
  {
   "cell_type": "code",
   "execution_count": 13,
   "id": "5cc7992e",
   "metadata": {},
   "outputs": [
    {
     "data": {
      "text/plain": [
       "CircuitInstruction(operation=Instruction(name='barrier', num_qubits=3, num_clbits=0, params=[]), qubits=(<Qubit register=(3, \"q\"), index=0>, <Qubit register=(3, \"q\"), index=1>, <Qubit register=(3, \"q\"), index=2>), clbits=())"
      ]
     },
     "execution_count": 13,
     "metadata": {},
     "output_type": "execute_result"
    }
   ],
   "source": [
    "circuit = QuantumCircuit(3,3) \n",
    "\n",
    "circuit.x(0)      \n",
    "circuit.barrier()\n",
    "\n",
    "circuit.h(1)       \n",
    "circuit.cx(1,2)   \n",
    "circuit.barrier()"
   ]
  },
  {
   "cell_type": "code",
   "execution_count": 14,
   "id": "367f9921",
   "metadata": {},
   "outputs": [
    {
     "data": {
      "text/html": [
       "<pre style=\"word-wrap: normal;white-space: pre;background: #fff0;line-height: 1.1;font-family: &quot;Courier New&quot;,Courier,monospace\">     ┌───┐ ░            ░ \n",
       "q_0: ┤ X ├─░────────────░─\n",
       "     └───┘ ░ ┌───┐      ░ \n",
       "q_1: ──────░─┤ H ├──■───░─\n",
       "           ░ └───┘┌─┴─┐ ░ \n",
       "q_2: ──────░──────┤ X ├─░─\n",
       "           ░      └───┘ ░ \n",
       "c: 3/═════════════════════\n",
       "                          </pre>"
      ],
      "text/plain": [
       "     ┌───┐ ░            ░ \n",
       "q_0: ┤ X ├─░────────────░─\n",
       "     └───┘ ░ ┌───┐      ░ \n",
       "q_1: ──────░─┤ H ├──■───░─\n",
       "           ░ └───┘┌─┴─┐ ░ \n",
       "q_2: ──────░──────┤ X ├─░─\n",
       "           ░      └───┘ ░ \n",
       "c: 3/═════════════════════\n",
       "                          "
      ]
     },
     "execution_count": 14,
     "metadata": {},
     "output_type": "execute_result"
    }
   ],
   "source": [
    "circuit.draw()"
   ]
  },
  {
   "cell_type": "code",
   "execution_count": 15,
   "id": "563f352b",
   "metadata": {},
   "outputs": [
    {
     "data": {
      "text/html": [
       "<pre style=\"word-wrap: normal;white-space: pre;background: #fff0;line-height: 1.1;font-family: &quot;Courier New&quot;,Courier,monospace\">     ┌───┐ ░            ░      ┌───┐ ░ \n",
       "q_0: ┤ X ├─░────────────░───■──┤ H ├─░─\n",
       "     └───┘ ░ ┌───┐      ░ ┌─┴─┐└───┘ ░ \n",
       "q_1: ──────░─┤ H ├──■───░─┤ X ├──────░─\n",
       "           ░ └───┘┌─┴─┐ ░ └───┘      ░ \n",
       "q_2: ──────░──────┤ X ├─░────────────░─\n",
       "           ░      └───┘ ░            ░ \n",
       "c: 3/══════════════════════════════════\n",
       "                                       </pre>"
      ],
      "text/plain": [
       "     ┌───┐ ░            ░      ┌───┐ ░ \n",
       "q_0: ┤ X ├─░────────────░───■──┤ H ├─░─\n",
       "     └───┘ ░ ┌───┐      ░ ┌─┴─┐└───┘ ░ \n",
       "q_1: ──────░─┤ H ├──■───░─┤ X ├──────░─\n",
       "           ░ └───┘┌─┴─┐ ░ └───┘      ░ \n",
       "q_2: ──────░──────┤ X ├─░────────────░─\n",
       "           ░      └───┘ ░            ░ \n",
       "c: 3/══════════════════════════════════\n",
       "                                       "
      ]
     },
     "execution_count": 15,
     "metadata": {},
     "output_type": "execute_result"
    }
   ],
   "source": [
    "circuit.cx(0,1)\n",
    "circuit.h(0)\n",
    "circuit.barrier()\n",
    "circuit.draw()"
   ]
  },
  {
   "cell_type": "code",
   "execution_count": 16,
   "id": "18ea85ca",
   "metadata": {},
   "outputs": [
    {
     "data": {
      "text/html": [
       "<pre style=\"word-wrap: normal;white-space: pre;background: #fff0;line-height: 1.1;font-family: &quot;Courier New&quot;,Courier,monospace\">     ┌───┐ ░            ░      ┌───┐ ░ ┌─┐    ░ \n",
       "q_0: ┤ X ├─░────────────░───■──┤ H ├─░─┤M├────░─\n",
       "     └───┘ ░ ┌───┐      ░ ┌─┴─┐└───┘ ░ └╥┘┌─┐ ░ \n",
       "q_1: ──────░─┤ H ├──■───░─┤ X ├──────░──╫─┤M├─░─\n",
       "           ░ └───┘┌─┴─┐ ░ └───┘      ░  ║ └╥┘ ░ \n",
       "q_2: ──────░──────┤ X ├─░────────────░──╫──╫──░─\n",
       "           ░      └───┘ ░            ░  ║  ║  ░ \n",
       "c: 3/═══════════════════════════════════╩══╩════\n",
       "                                        0  1    </pre>"
      ],
      "text/plain": [
       "     ┌───┐ ░            ░      ┌───┐ ░ ┌─┐    ░ \n",
       "q_0: ┤ X ├─░────────────░───■──┤ H ├─░─┤M├────░─\n",
       "     └───┘ ░ ┌───┐      ░ ┌─┴─┐└───┘ ░ └╥┘┌─┐ ░ \n",
       "q_1: ──────░─┤ H ├──■───░─┤ X ├──────░──╫─┤M├─░─\n",
       "           ░ └───┘┌─┴─┐ ░ └───┘      ░  ║ └╥┘ ░ \n",
       "q_2: ──────░──────┤ X ├─░────────────░──╫──╫──░─\n",
       "           ░      └───┘ ░            ░  ║  ║  ░ \n",
       "c: 3/═══════════════════════════════════╩══╩════\n",
       "                                        0  1    "
      ]
     },
     "execution_count": 16,
     "metadata": {},
     "output_type": "execute_result"
    }
   ],
   "source": [
    "circuit.measure([0, 1], [0, 1])\n",
    "circuit.barrier()\n",
    "circuit.draw()"
   ]
  },
  {
   "cell_type": "code",
   "execution_count": 17,
   "id": "2fe25da2",
   "metadata": {},
   "outputs": [
    {
     "data": {
      "text/html": [
       "<pre style=\"word-wrap: normal;white-space: pre;background: #fff0;line-height: 1.1;font-family: &quot;Courier New&quot;,Courier,monospace\">     ┌───┐ ░            ░      ┌───┐ ░ ┌─┐    ░            \n",
       "q_0: ┤ X ├─░────────────░───■──┤ H ├─░─┤M├────░───────■────\n",
       "     └───┘ ░ ┌───┐      ░ ┌─┴─┐└───┘ ░ └╥┘┌─┐ ░       │    \n",
       "q_1: ──────░─┤ H ├──■───░─┤ X ├──────░──╫─┤M├─░───■───┼────\n",
       "           ░ └───┘┌─┴─┐ ░ └───┘      ░  ║ └╥┘ ░ ┌─┴─┐ │ ┌─┐\n",
       "q_2: ──────░──────┤ X ├─░────────────░──╫──╫──░─┤ X ├─■─┤M├\n",
       "           ░      └───┘ ░            ░  ║  ║  ░ └───┘   └╥┘\n",
       "c: 3/═══════════════════════════════════╩══╩═════════════╩═\n",
       "                                        0  1             2 </pre>"
      ],
      "text/plain": [
       "     ┌───┐ ░            ░      ┌───┐ ░ ┌─┐    ░            \n",
       "q_0: ┤ X ├─░────────────░───■──┤ H ├─░─┤M├────░───────■────\n",
       "     └───┘ ░ ┌───┐      ░ ┌─┴─┐└───┘ ░ └╥┘┌─┐ ░       │    \n",
       "q_1: ──────░─┤ H ├──■───░─┤ X ├──────░──╫─┤M├─░───■───┼────\n",
       "           ░ └───┘┌─┴─┐ ░ └───┘      ░  ║ └╥┘ ░ ┌─┴─┐ │ ┌─┐\n",
       "q_2: ──────░──────┤ X ├─░────────────░──╫──╫──░─┤ X ├─■─┤M├\n",
       "           ░      └───┘ ░            ░  ║  ║  ░ └───┘   └╥┘\n",
       "c: 3/═══════════════════════════════════╩══╩═════════════╩═\n",
       "                                        0  1             2 "
      ]
     },
     "execution_count": 17,
     "metadata": {},
     "output_type": "execute_result"
    }
   ],
   "source": [
    "\n",
    "circuit.cx(1, 2) \n",
    "circuit.cz(0, 2) \n",
    "\n",
    " \n",
    "circuit.measure([2], [2])\n",
    "\n",
    "circuit.draw()"
   ]
  },
  {
   "cell_type": "code",
   "execution_count": null,
   "id": "644fcabb",
   "metadata": {},
   "outputs": [],
   "source": []
  },
  {
   "cell_type": "code",
   "execution_count": null,
   "id": "d16e635c",
   "metadata": {},
   "outputs": [],
   "source": []
  }
 ],
 "metadata": {
  "kernelspec": {
   "display_name": "Python 3",
   "language": "python",
   "name": "python3"
  },
  "language_info": {
   "codemirror_mode": {
    "name": "ipython",
    "version": 3
   },
   "file_extension": ".py",
   "mimetype": "text/x-python",
   "name": "python",
   "nbconvert_exporter": "python",
   "pygments_lexer": "ipython3",
   "version": "3.13.5"
  }
 },
 "nbformat": 4,
 "nbformat_minor": 5
}
